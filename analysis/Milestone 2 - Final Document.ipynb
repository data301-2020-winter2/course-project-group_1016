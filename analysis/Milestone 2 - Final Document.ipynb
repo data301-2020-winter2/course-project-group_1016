{
 "cells": [
  {
   "cell_type": "markdown",
   "id": "introductory-dancing",
   "metadata": {},
   "source": [
    "# Task 1"
   ]
  },
  {
   "cell_type": "markdown",
   "id": "acoustic-middle",
   "metadata": {},
   "source": [
    "We are demonstrating the use of a **bold** and *italics* text (and the use of a title above). "
   ]
  },
  {
   "cell_type": "markdown",
   "id": "tropical-institute",
   "metadata": {},
   "source": [
    "# Task 3"
   ]
  },
  {
   "cell_type": "code",
   "execution_count": 39,
   "id": "intimate-inspector",
   "metadata": {},
   "outputs": [],
   "source": [
    "import pandas as pd\n",
    "import numpy as np\n",
    "import matplotlib.pyplot as plt \n",
    "import seaborn as sns\n",
    "import os\n",
    "os.chdir(\"../..\")"
   ]
  },
  {
   "cell_type": "code",
   "execution_count": 40,
   "id": "covered-cruise",
   "metadata": {},
   "outputs": [],
   "source": [
    "from Scripts.functions import load_and_process"
   ]
  },
  {
   "cell_type": "code",
   "execution_count": 41,
   "id": "cubic-macedonia",
   "metadata": {},
   "outputs": [
    {
     "ename": "FileNotFoundError",
     "evalue": "[Errno 2] No such file or directory: '../Data/Raw/hour.csv'",
     "output_type": "error",
     "traceback": [
      "\u001b[0;31m---------------------------------------------------------------------------\u001b[0m",
      "\u001b[0;31mFileNotFoundError\u001b[0m                         Traceback (most recent call last)",
      "\u001b[0;32m<ipython-input-41-b81563d8a12c>\u001b[0m in \u001b[0;36m<module>\u001b[0;34m\u001b[0m\n\u001b[0;32m----> 1\u001b[0;31m \u001b[0mdf\u001b[0m \u001b[0;34m=\u001b[0m \u001b[0mload_and_process\u001b[0m\u001b[0;34m(\u001b[0m\u001b[0;34m'../Data/Raw/hour.csv'\u001b[0m\u001b[0;34m)\u001b[0m\u001b[0;34m\u001b[0m\u001b[0;34m\u001b[0m\u001b[0m\n\u001b[0m",
      "\u001b[0;32m~/Documents/GitHub/course-project-group_1016/analysis/Scripts/functions.py\u001b[0m in \u001b[0;36mload_and_process\u001b[0;34m(url_or_path_to_csv_file)\u001b[0m\n\u001b[1;32m      5\u001b[0m     \u001b[0;31m#Method Chain 1 (load data, rename columns, drop unneeded columns)\u001b[0m\u001b[0;34m\u001b[0m\u001b[0;34m\u001b[0m\u001b[0;34m\u001b[0m\u001b[0m\n\u001b[1;32m      6\u001b[0m     df1 = (\n\u001b[0;32m----> 7\u001b[0;31m     \u001b[0mpd\u001b[0m\u001b[0;34m.\u001b[0m\u001b[0mread_csv\u001b[0m\u001b[0;34m(\u001b[0m\u001b[0murl_or_path_to_csv_file\u001b[0m\u001b[0;34m)\u001b[0m\u001b[0;34m\u001b[0m\u001b[0;34m\u001b[0m\u001b[0m\n\u001b[0m\u001b[1;32m      8\u001b[0m     \u001b[0;34m.\u001b[0m\u001b[0mrename\u001b[0m\u001b[0;34m(\u001b[0m\u001b[0mcolumns\u001b[0m\u001b[0;34m=\u001b[0m\u001b[0;34m{\u001b[0m\u001b[0;34m\"instant\"\u001b[0m\u001b[0;34m:\u001b[0m\u001b[0;34m\"Instant\"\u001b[0m\u001b[0;34m,\u001b[0m \u001b[0;34m\"dteday\"\u001b[0m\u001b[0;34m:\u001b[0m\u001b[0;34m\"Date\"\u001b[0m\u001b[0;34m,\u001b[0m \u001b[0;34m\"season\"\u001b[0m\u001b[0;34m:\u001b[0m\u001b[0;34m\"Season\"\u001b[0m\u001b[0;34m,\u001b[0m \u001b[0;34m\"yr\"\u001b[0m\u001b[0;34m:\u001b[0m\u001b[0;34m\"Year of Use\"\u001b[0m\u001b[0;34m,\u001b[0m \u001b[0;34m\"mnth\"\u001b[0m\u001b[0;34m:\u001b[0m\u001b[0;34m\"Month\"\u001b[0m\u001b[0;34m,\u001b[0m \u001b[0;34m\"hr\"\u001b[0m\u001b[0;34m:\u001b[0m\u001b[0;34m\"Hour\"\u001b[0m\u001b[0;34m,\u001b[0m \u001b[0;34m\"weekday\"\u001b[0m\u001b[0;34m:\u001b[0m\u001b[0;34m\"Day of Week\"\u001b[0m\u001b[0;34m,\u001b[0m \u001b[0;34m\"workingday\"\u001b[0m\u001b[0;34m:\u001b[0m\u001b[0;34m\"Workday?\"\u001b[0m\u001b[0;34m,\u001b[0m \u001b[0;34m\"holiday\"\u001b[0m\u001b[0;34m:\u001b[0m\u001b[0;34m\"Holiday?\"\u001b[0m\u001b[0;34m,\u001b[0m \u001b[0;34m\"casual\"\u001b[0m\u001b[0;34m:\u001b[0m\u001b[0;34m\"Casual Users\"\u001b[0m\u001b[0;34m,\u001b[0m \u001b[0;34m\"registered\"\u001b[0m\u001b[0;34m:\u001b[0m\u001b[0;34m\"Registered User\"\u001b[0m\u001b[0;34m,\u001b[0m \u001b[0;34m\"cnt\"\u001b[0m\u001b[0;34m:\u001b[0m\u001b[0;34m\"Total Users\"\u001b[0m\u001b[0;34m,\u001b[0m \u001b[0;34m\"weathersit\"\u001b[0m\u001b[0;34m:\u001b[0m\u001b[0;34m\"Weather Situation\"\u001b[0m\u001b[0;34m,\u001b[0m \u001b[0;34m\"temp\"\u001b[0m\u001b[0;34m:\u001b[0m\u001b[0;34m\"Temperature\"\u001b[0m\u001b[0;34m,\u001b[0m \u001b[0;34m\"atemp\"\u001b[0m\u001b[0;34m:\u001b[0m\u001b[0;34m\"Feeling Temperature\"\u001b[0m\u001b[0;34m,\u001b[0m \u001b[0;34m\"hum\"\u001b[0m\u001b[0;34m:\u001b[0m\u001b[0;34m\"Humidity\"\u001b[0m\u001b[0;34m,\u001b[0m \u001b[0;34m\"windspeed\"\u001b[0m\u001b[0;34m:\u001b[0m\u001b[0;34m\"Wind Speed\"\u001b[0m\u001b[0;34m}\u001b[0m\u001b[0;34m)\u001b[0m\u001b[0;34m\u001b[0m\u001b[0;34m\u001b[0m\u001b[0m\n\u001b[1;32m      9\u001b[0m     \u001b[0;34m.\u001b[0m\u001b[0mdrop\u001b[0m\u001b[0;34m(\u001b[0m\u001b[0mcolumns\u001b[0m\u001b[0;34m=\u001b[0m\u001b[0;34m[\u001b[0m\u001b[0;34m'Year of Use'\u001b[0m\u001b[0;34m]\u001b[0m\u001b[0;34m)\u001b[0m\u001b[0;34m\u001b[0m\u001b[0;34m\u001b[0m\u001b[0m\n",
      "\u001b[0;32m/opt/miniconda3/lib/python3.8/site-packages/pandas/io/parsers.py\u001b[0m in \u001b[0;36mread_csv\u001b[0;34m(filepath_or_buffer, sep, delimiter, header, names, index_col, usecols, squeeze, prefix, mangle_dupe_cols, dtype, engine, converters, true_values, false_values, skipinitialspace, skiprows, skipfooter, nrows, na_values, keep_default_na, na_filter, verbose, skip_blank_lines, parse_dates, infer_datetime_format, keep_date_col, date_parser, dayfirst, cache_dates, iterator, chunksize, compression, thousands, decimal, lineterminator, quotechar, quoting, doublequote, escapechar, comment, encoding, dialect, error_bad_lines, warn_bad_lines, delim_whitespace, low_memory, memory_map, float_precision, storage_options)\u001b[0m\n\u001b[1;32m    608\u001b[0m     \u001b[0mkwds\u001b[0m\u001b[0;34m.\u001b[0m\u001b[0mupdate\u001b[0m\u001b[0;34m(\u001b[0m\u001b[0mkwds_defaults\u001b[0m\u001b[0;34m)\u001b[0m\u001b[0;34m\u001b[0m\u001b[0;34m\u001b[0m\u001b[0m\n\u001b[1;32m    609\u001b[0m \u001b[0;34m\u001b[0m\u001b[0m\n\u001b[0;32m--> 610\u001b[0;31m     \u001b[0;32mreturn\u001b[0m \u001b[0m_read\u001b[0m\u001b[0;34m(\u001b[0m\u001b[0mfilepath_or_buffer\u001b[0m\u001b[0;34m,\u001b[0m \u001b[0mkwds\u001b[0m\u001b[0;34m)\u001b[0m\u001b[0;34m\u001b[0m\u001b[0;34m\u001b[0m\u001b[0m\n\u001b[0m\u001b[1;32m    611\u001b[0m \u001b[0;34m\u001b[0m\u001b[0m\n\u001b[1;32m    612\u001b[0m \u001b[0;34m\u001b[0m\u001b[0m\n",
      "\u001b[0;32m/opt/miniconda3/lib/python3.8/site-packages/pandas/io/parsers.py\u001b[0m in \u001b[0;36m_read\u001b[0;34m(filepath_or_buffer, kwds)\u001b[0m\n\u001b[1;32m    460\u001b[0m \u001b[0;34m\u001b[0m\u001b[0m\n\u001b[1;32m    461\u001b[0m     \u001b[0;31m# Create the parser.\u001b[0m\u001b[0;34m\u001b[0m\u001b[0;34m\u001b[0m\u001b[0;34m\u001b[0m\u001b[0m\n\u001b[0;32m--> 462\u001b[0;31m     \u001b[0mparser\u001b[0m \u001b[0;34m=\u001b[0m \u001b[0mTextFileReader\u001b[0m\u001b[0;34m(\u001b[0m\u001b[0mfilepath_or_buffer\u001b[0m\u001b[0;34m,\u001b[0m \u001b[0;34m**\u001b[0m\u001b[0mkwds\u001b[0m\u001b[0;34m)\u001b[0m\u001b[0;34m\u001b[0m\u001b[0;34m\u001b[0m\u001b[0m\n\u001b[0m\u001b[1;32m    463\u001b[0m \u001b[0;34m\u001b[0m\u001b[0m\n\u001b[1;32m    464\u001b[0m     \u001b[0;32mif\u001b[0m \u001b[0mchunksize\u001b[0m \u001b[0;32mor\u001b[0m \u001b[0miterator\u001b[0m\u001b[0;34m:\u001b[0m\u001b[0;34m\u001b[0m\u001b[0;34m\u001b[0m\u001b[0m\n",
      "\u001b[0;32m/opt/miniconda3/lib/python3.8/site-packages/pandas/io/parsers.py\u001b[0m in \u001b[0;36m__init__\u001b[0;34m(self, f, engine, **kwds)\u001b[0m\n\u001b[1;32m    817\u001b[0m             \u001b[0mself\u001b[0m\u001b[0;34m.\u001b[0m\u001b[0moptions\u001b[0m\u001b[0;34m[\u001b[0m\u001b[0;34m\"has_index_names\"\u001b[0m\u001b[0;34m]\u001b[0m \u001b[0;34m=\u001b[0m \u001b[0mkwds\u001b[0m\u001b[0;34m[\u001b[0m\u001b[0;34m\"has_index_names\"\u001b[0m\u001b[0;34m]\u001b[0m\u001b[0;34m\u001b[0m\u001b[0;34m\u001b[0m\u001b[0m\n\u001b[1;32m    818\u001b[0m \u001b[0;34m\u001b[0m\u001b[0m\n\u001b[0;32m--> 819\u001b[0;31m         \u001b[0mself\u001b[0m\u001b[0;34m.\u001b[0m\u001b[0m_engine\u001b[0m \u001b[0;34m=\u001b[0m \u001b[0mself\u001b[0m\u001b[0;34m.\u001b[0m\u001b[0m_make_engine\u001b[0m\u001b[0;34m(\u001b[0m\u001b[0mself\u001b[0m\u001b[0;34m.\u001b[0m\u001b[0mengine\u001b[0m\u001b[0;34m)\u001b[0m\u001b[0;34m\u001b[0m\u001b[0;34m\u001b[0m\u001b[0m\n\u001b[0m\u001b[1;32m    820\u001b[0m \u001b[0;34m\u001b[0m\u001b[0m\n\u001b[1;32m    821\u001b[0m     \u001b[0;32mdef\u001b[0m \u001b[0mclose\u001b[0m\u001b[0;34m(\u001b[0m\u001b[0mself\u001b[0m\u001b[0;34m)\u001b[0m\u001b[0;34m:\u001b[0m\u001b[0;34m\u001b[0m\u001b[0;34m\u001b[0m\u001b[0m\n",
      "\u001b[0;32m/opt/miniconda3/lib/python3.8/site-packages/pandas/io/parsers.py\u001b[0m in \u001b[0;36m_make_engine\u001b[0;34m(self, engine)\u001b[0m\n\u001b[1;32m   1048\u001b[0m             )\n\u001b[1;32m   1049\u001b[0m         \u001b[0;31m# error: Too many arguments for \"ParserBase\"\u001b[0m\u001b[0;34m\u001b[0m\u001b[0;34m\u001b[0m\u001b[0;34m\u001b[0m\u001b[0m\n\u001b[0;32m-> 1050\u001b[0;31m         \u001b[0;32mreturn\u001b[0m \u001b[0mmapping\u001b[0m\u001b[0;34m[\u001b[0m\u001b[0mengine\u001b[0m\u001b[0;34m]\u001b[0m\u001b[0;34m(\u001b[0m\u001b[0mself\u001b[0m\u001b[0;34m.\u001b[0m\u001b[0mf\u001b[0m\u001b[0;34m,\u001b[0m \u001b[0;34m**\u001b[0m\u001b[0mself\u001b[0m\u001b[0;34m.\u001b[0m\u001b[0moptions\u001b[0m\u001b[0;34m)\u001b[0m  \u001b[0;31m# type: ignore[call-arg]\u001b[0m\u001b[0;34m\u001b[0m\u001b[0;34m\u001b[0m\u001b[0m\n\u001b[0m\u001b[1;32m   1051\u001b[0m \u001b[0;34m\u001b[0m\u001b[0m\n\u001b[1;32m   1052\u001b[0m     \u001b[0;32mdef\u001b[0m \u001b[0m_failover_to_python\u001b[0m\u001b[0;34m(\u001b[0m\u001b[0mself\u001b[0m\u001b[0;34m)\u001b[0m\u001b[0;34m:\u001b[0m\u001b[0;34m\u001b[0m\u001b[0;34m\u001b[0m\u001b[0m\n",
      "\u001b[0;32m/opt/miniconda3/lib/python3.8/site-packages/pandas/io/parsers.py\u001b[0m in \u001b[0;36m__init__\u001b[0;34m(self, src, **kwds)\u001b[0m\n\u001b[1;32m   1865\u001b[0m \u001b[0;34m\u001b[0m\u001b[0m\n\u001b[1;32m   1866\u001b[0m         \u001b[0;31m# open handles\u001b[0m\u001b[0;34m\u001b[0m\u001b[0;34m\u001b[0m\u001b[0;34m\u001b[0m\u001b[0m\n\u001b[0;32m-> 1867\u001b[0;31m         \u001b[0mself\u001b[0m\u001b[0;34m.\u001b[0m\u001b[0m_open_handles\u001b[0m\u001b[0;34m(\u001b[0m\u001b[0msrc\u001b[0m\u001b[0;34m,\u001b[0m \u001b[0mkwds\u001b[0m\u001b[0;34m)\u001b[0m\u001b[0;34m\u001b[0m\u001b[0;34m\u001b[0m\u001b[0m\n\u001b[0m\u001b[1;32m   1868\u001b[0m         \u001b[0;32massert\u001b[0m \u001b[0mself\u001b[0m\u001b[0;34m.\u001b[0m\u001b[0mhandles\u001b[0m \u001b[0;32mis\u001b[0m \u001b[0;32mnot\u001b[0m \u001b[0;32mNone\u001b[0m\u001b[0;34m\u001b[0m\u001b[0;34m\u001b[0m\u001b[0m\n\u001b[1;32m   1869\u001b[0m         \u001b[0;32mfor\u001b[0m \u001b[0mkey\u001b[0m \u001b[0;32min\u001b[0m \u001b[0;34m(\u001b[0m\u001b[0;34m\"storage_options\"\u001b[0m\u001b[0;34m,\u001b[0m \u001b[0;34m\"encoding\"\u001b[0m\u001b[0;34m,\u001b[0m \u001b[0;34m\"memory_map\"\u001b[0m\u001b[0;34m,\u001b[0m \u001b[0;34m\"compression\"\u001b[0m\u001b[0;34m)\u001b[0m\u001b[0;34m:\u001b[0m\u001b[0;34m\u001b[0m\u001b[0;34m\u001b[0m\u001b[0m\n",
      "\u001b[0;32m/opt/miniconda3/lib/python3.8/site-packages/pandas/io/parsers.py\u001b[0m in \u001b[0;36m_open_handles\u001b[0;34m(self, src, kwds)\u001b[0m\n\u001b[1;32m   1360\u001b[0m         \u001b[0mLet\u001b[0m \u001b[0mthe\u001b[0m \u001b[0mreaders\u001b[0m \u001b[0mopen\u001b[0m \u001b[0mIOHanldes\u001b[0m \u001b[0mafter\u001b[0m \u001b[0mthey\u001b[0m \u001b[0mare\u001b[0m \u001b[0mdone\u001b[0m \u001b[0;32mwith\u001b[0m \u001b[0mtheir\u001b[0m \u001b[0mpotential\u001b[0m \u001b[0mraises\u001b[0m\u001b[0;34m.\u001b[0m\u001b[0;34m\u001b[0m\u001b[0;34m\u001b[0m\u001b[0m\n\u001b[1;32m   1361\u001b[0m         \"\"\"\n\u001b[0;32m-> 1362\u001b[0;31m         self.handles = get_handle(\n\u001b[0m\u001b[1;32m   1363\u001b[0m             \u001b[0msrc\u001b[0m\u001b[0;34m,\u001b[0m\u001b[0;34m\u001b[0m\u001b[0;34m\u001b[0m\u001b[0m\n\u001b[1;32m   1364\u001b[0m             \u001b[0;34m\"r\"\u001b[0m\u001b[0;34m,\u001b[0m\u001b[0;34m\u001b[0m\u001b[0;34m\u001b[0m\u001b[0m\n",
      "\u001b[0;32m/opt/miniconda3/lib/python3.8/site-packages/pandas/io/common.py\u001b[0m in \u001b[0;36mget_handle\u001b[0;34m(path_or_buf, mode, encoding, compression, memory_map, is_text, errors, storage_options)\u001b[0m\n\u001b[1;32m    640\u001b[0m                 \u001b[0merrors\u001b[0m \u001b[0;34m=\u001b[0m \u001b[0;34m\"replace\"\u001b[0m\u001b[0;34m\u001b[0m\u001b[0;34m\u001b[0m\u001b[0m\n\u001b[1;32m    641\u001b[0m             \u001b[0;31m# Encoding\u001b[0m\u001b[0;34m\u001b[0m\u001b[0;34m\u001b[0m\u001b[0;34m\u001b[0m\u001b[0m\n\u001b[0;32m--> 642\u001b[0;31m             handle = open(\n\u001b[0m\u001b[1;32m    643\u001b[0m                 \u001b[0mhandle\u001b[0m\u001b[0;34m,\u001b[0m\u001b[0;34m\u001b[0m\u001b[0;34m\u001b[0m\u001b[0m\n\u001b[1;32m    644\u001b[0m                 \u001b[0mioargs\u001b[0m\u001b[0;34m.\u001b[0m\u001b[0mmode\u001b[0m\u001b[0;34m,\u001b[0m\u001b[0;34m\u001b[0m\u001b[0;34m\u001b[0m\u001b[0m\n",
      "\u001b[0;31mFileNotFoundError\u001b[0m: [Errno 2] No such file or directory: '../Data/Raw/hour.csv'"
     ]
    }
   ],
   "source": [
    "df = load_and_process('../Data/Raw/hour.csv')"
   ]
  },
  {
   "cell_type": "code",
   "execution_count": 29,
   "id": "nutritional-profile",
   "metadata": {},
   "outputs": [
    {
     "ename": "NameError",
     "evalue": "name 'df' is not defined",
     "output_type": "error",
     "traceback": [
      "\u001b[0;31m---------------------------------------------------------------------------\u001b[0m",
      "\u001b[0;31mNameError\u001b[0m                                 Traceback (most recent call last)",
      "\u001b[0;32m<ipython-input-29-6c5e61a6269b>\u001b[0m in \u001b[0;36m<module>\u001b[0;34m\u001b[0m\n\u001b[1;32m      1\u001b[0m \u001b[0;31m#summary of DataFrame\u001b[0m\u001b[0;34m\u001b[0m\u001b[0;34m\u001b[0m\u001b[0;34m\u001b[0m\u001b[0m\n\u001b[0;32m----> 2\u001b[0;31m \u001b[0mdf\u001b[0m\u001b[0;34m.\u001b[0m\u001b[0minfo\u001b[0m\u001b[0;34m(\u001b[0m\u001b[0;34m)\u001b[0m\u001b[0;34m\u001b[0m\u001b[0;34m\u001b[0m\u001b[0m\n\u001b[0m",
      "\u001b[0;31mNameError\u001b[0m: name 'df' is not defined"
     ]
    }
   ],
   "source": [
    "#summary of DataFrame\n",
    "df.info()"
   ]
  },
  {
   "cell_type": "code",
   "execution_count": 27,
   "id": "linear-offering",
   "metadata": {},
   "outputs": [],
   "source": [
    "import pandas as pd\n",
    "def load_and_process(url_or_path_to_csv_file):\n",
    "\n",
    "\n",
    "    #Method Chain 1 (load data, rename columns, drop unneeded columns)\n",
    "    df1 = (\n",
    "    pd.read_csv(url_or_path_to_csv_file)\n",
    "    .rename(columns={\"instant\":\"Instant\", \"dteday\":\"Date\", \"season\":\"Season\", \"yr\":\"Year of Use\", \"mnth\":\"Month\", \"hr\":\"Hour\", \"weekday\":\"Day of Week\", \"workingday\":\"Workday?\", \"holiday\":\"Holiday?\", \"casual\":\"Casual Users\", \"registered\":\"Registered User\", \"cnt\":\"Total Users\", \"weathersit\":\"Weather Situation\", \"temp\":\"Temperature\", \"atemp\":\"Feeling Temperature\", \"hum\":\"Humidity\", \"windspeed\":\"Wind Speed\"})\n",
    "    .drop(columns=['Year of Use'])\n",
    "    )\n",
    " \n",
    "\n",
    "    #Method Chain 2 (Editing columns to be more descriptive)\n",
    "    df2 = (\n",
    "    df1\n",
    "    .assign(Casual_Ratio = df1['Casual Users'] / df1['Total Users'])\n",
    "    )\n",
    "    df2['Month'] = df1['Month'].replace([1,2,3,4,5,6,7,8,9,10,11,12], ['January','February', 'March', 'April', 'May', 'June', 'July', 'August', 'September', 'October', 'November', 'December'])\n",
    "    df2['Holiday?'] = df1['Holiday?'].replace([0,1], [False, True])                                                   \n",
    "    df2['Workday?'] = df1['Workday?'].replace([0,1], [False, True])\n",
    "    df2['Day of Week'] = df1['Day of Week'].replace([1,2,3,4,5,6,0], ['Monday','Tuesday','Wednesday','Thursday','Friday','Saturday','Sunday'])\n",
    "    df2['Weather Situation'] = df1['Weather Situation'].replace([1,2,3,4], ['Sunny','Cloudy','Light Precipitation','Heavy Precipitation'])\n",
    "    df2['Season'] = df1['Season'].replace([1,2,3,4], ['Winter','Spring','Summer','Fall'])\n",
    "    df2['Year of Use'] = df1['Year of Use'].replace([0,1],[2011,2012])\n",
    "    df2[\"Temperature\"] = 41 * df1[\"Temperature\"]\n",
    "    df2[\"Feeling Temperature\"] = 50 * df1[\"Feeling Temperature\"]\n",
    "    df2[\"Wind Speed\"] = 67 * df1[\"Wind Speed\"]\n",
    "    return df2"
   ]
  },
  {
   "cell_type": "code",
   "execution_count": 28,
   "id": "horizontal-upgrade",
   "metadata": {},
   "outputs": [
    {
     "ename": "NameError",
     "evalue": "name 'df1' is not defined",
     "output_type": "error",
     "traceback": [
      "\u001b[0;31m---------------------------------------------------------------------------\u001b[0m",
      "\u001b[0;31mNameError\u001b[0m                                 Traceback (most recent call last)",
      "\u001b[0;32m<ipython-input-28-6a861a8b3f1a>\u001b[0m in \u001b[0;36m<module>\u001b[0;34m\u001b[0m\n\u001b[0;32m----> 1\u001b[0;31m \u001b[0mdf1\u001b[0m\u001b[0;34m\u001b[0m\u001b[0;34m\u001b[0m\u001b[0m\n\u001b[0m",
      "\u001b[0;31mNameError\u001b[0m: name 'df1' is not defined"
     ]
    }
   ],
   "source": []
  },
  {
   "cell_type": "markdown",
   "id": "operational-session",
   "metadata": {},
   "source": [
    "# Task 4 - EDA (Medha)"
   ]
  },
  {
   "cell_type": "code",
   "execution_count": 25,
   "id": "informed-tracker",
   "metadata": {},
   "outputs": [
    {
     "ename": "NameError",
     "evalue": "name 'df2' is not defined",
     "output_type": "error",
     "traceback": [
      "\u001b[0;31m---------------------------------------------------------------------------\u001b[0m",
      "\u001b[0;31mNameError\u001b[0m                                 Traceback (most recent call last)",
      "\u001b[0;32m<ipython-input-25-7f9799f7d528>\u001b[0m in \u001b[0;36m<module>\u001b[0;34m\u001b[0m\n\u001b[0;32m----> 1\u001b[0;31m \u001b[0mgraph\u001b[0m\u001b[0;34m=\u001b[0m\u001b[0msns\u001b[0m\u001b[0;34m.\u001b[0m\u001b[0mcatplot\u001b[0m\u001b[0;34m(\u001b[0m\u001b[0mdata\u001b[0m\u001b[0;34m=\u001b[0m\u001b[0mdf2\u001b[0m\u001b[0;34m,\u001b[0m \u001b[0my\u001b[0m\u001b[0;34m=\u001b[0m \u001b[0;34m\"Total Users\"\u001b[0m\u001b[0;34m,\u001b[0m\u001b[0mx\u001b[0m\u001b[0;34m=\u001b[0m \u001b[0;34m\"Weather Situation\"\u001b[0m\u001b[0;34m,\u001b[0m \u001b[0mhue\u001b[0m\u001b[0;34m=\u001b[0m \u001b[0;34m\"Day of Week\"\u001b[0m\u001b[0;34m,\u001b[0m\u001b[0mcol\u001b[0m\u001b[0;34m=\u001b[0m\u001b[0;34m\"Season\"\u001b[0m\u001b[0;34m)\u001b[0m\u001b[0;34m\u001b[0m\u001b[0;34m\u001b[0m\u001b[0m\n\u001b[0m\u001b[1;32m      2\u001b[0m \u001b[0mprint\u001b[0m\u001b[0;34m(\u001b[0m\u001b[0;34m\"The four graphs show the total amount of bicycle users per season. There seems to be a direct correlation between the weather condition and the amount of users. Unsurprisingly, there seems to be little to no bicycle riders when the weather is bad. There also seems to be less bicycle riders during season 1 which is winter \"\u001b[0m\u001b[0;34m)\u001b[0m\u001b[0;34m\u001b[0m\u001b[0;34m\u001b[0m\u001b[0m\n",
      "\u001b[0;31mNameError\u001b[0m: name 'df2' is not defined"
     ]
    }
   ],
   "source": [
    "graph=sns.catplot(data=df2, y= \"Total Users\",x= \"Weather Situation\", hue= \"Day of Week\",col=\"Season\")\n",
    "print(\"The four graphs show the total amount of bicycle users per season. There seems to be a direct correlation between the weather condition and the amount of users. Unsurprisingly, there seems to be little to no bicycle riders when the weather is bad. There also seems to be less bicycle riders during season 1 which is winter \")"
   ]
  },
  {
   "cell_type": "code",
   "execution_count": 42,
   "id": "exempt-computer",
   "metadata": {},
   "outputs": [
    {
     "ename": "NameError",
     "evalue": "name 'df2' is not defined",
     "output_type": "error",
     "traceback": [
      "\u001b[0;31m---------------------------------------------------------------------------\u001b[0m",
      "\u001b[0;31mNameError\u001b[0m                                 Traceback (most recent call last)",
      "\u001b[0;32m<ipython-input-42-3a2284a8117e>\u001b[0m in \u001b[0;36m<module>\u001b[0;34m\u001b[0m\n\u001b[0;32m----> 1\u001b[0;31m \u001b[0mgraph_1\u001b[0m\u001b[0;34m=\u001b[0m\u001b[0msns\u001b[0m\u001b[0;34m.\u001b[0m\u001b[0mcatplot\u001b[0m\u001b[0;34m(\u001b[0m\u001b[0mdata\u001b[0m\u001b[0;34m=\u001b[0m\u001b[0mdf2\u001b[0m\u001b[0;34m,\u001b[0m \u001b[0my\u001b[0m\u001b[0;34m=\u001b[0m \u001b[0;34m\"Total Users\"\u001b[0m\u001b[0;34m,\u001b[0m\u001b[0mx\u001b[0m\u001b[0;34m=\u001b[0m \u001b[0;34m\"Holiday?\"\u001b[0m\u001b[0;34m,\u001b[0m \u001b[0mhue\u001b[0m\u001b[0;34m=\u001b[0m \u001b[0;34m\"Day of Week\"\u001b[0m\u001b[0;34m,\u001b[0m\u001b[0mcol\u001b[0m\u001b[0;34m=\u001b[0m\u001b[0;34m\"Season\"\u001b[0m\u001b[0;34m)\u001b[0m\u001b[0;34m\u001b[0m\u001b[0;34m\u001b[0m\u001b[0m\n\u001b[0m\u001b[1;32m      2\u001b[0m \u001b[0mprint\u001b[0m\u001b[0;34m(\u001b[0m\u001b[0;34m\"There are four graphs, each representing different seasons. I am trying to investigate whether there is a correlation between total users and holidays per season. It is interesting to see that people consistently, across all seasons, use their bicycles less during holidays\"\u001b[0m\u001b[0;34m)\u001b[0m\u001b[0;34m\u001b[0m\u001b[0;34m\u001b[0m\u001b[0m\n",
      "\u001b[0;31mNameError\u001b[0m: name 'df2' is not defined"
     ]
    }
   ],
   "source": [
    "graph_1=sns.catplot(data=df2, y= \"Total Users\",x= \"Holiday?\", hue= \"Day of Week\",col=\"Season\")\n",
    "print(\"There are four graphs, each representing different seasons. I am trying to investigate whether there is a correlation between total users and holidays per season. It is interesting to see that people consistently, across all seasons, use their bicycles less during holidays\")"
   ]
  },
  {
   "cell_type": "code",
   "execution_count": null,
   "id": "duplicate-confusion",
   "metadata": {},
   "outputs": [],
   "source": [
    "#Relationship between Total Users and Season\n",
    "df2.plot(kind='scatter',x='Season', y='Total Users')"
   ]
  },
  {
   "cell_type": "code",
   "execution_count": 43,
   "id": "double-reflection",
   "metadata": {},
   "outputs": [
    {
     "ename": "NameError",
     "evalue": "name 'df2' is not defined",
     "output_type": "error",
     "traceback": [
      "\u001b[0;31m---------------------------------------------------------------------------\u001b[0m",
      "\u001b[0;31mNameError\u001b[0m                                 Traceback (most recent call last)",
      "\u001b[0;32m<ipython-input-43-8a4922109448>\u001b[0m in \u001b[0;36m<module>\u001b[0;34m\u001b[0m\n\u001b[1;32m      1\u001b[0m \u001b[0;31m#Exploring dataset possibilities\u001b[0m\u001b[0;34m\u001b[0m\u001b[0;34m\u001b[0m\u001b[0;34m\u001b[0m\u001b[0m\n\u001b[0;32m----> 2\u001b[0;31m \u001b[0msns\u001b[0m\u001b[0;34m.\u001b[0m\u001b[0mpairplot\u001b[0m\u001b[0;34m(\u001b[0m\u001b[0mdf2\u001b[0m\u001b[0;34m)\u001b[0m\u001b[0;34m\u001b[0m\u001b[0;34m\u001b[0m\u001b[0m\n\u001b[0m",
      "\u001b[0;31mNameError\u001b[0m: name 'df2' is not defined"
     ]
    }
   ],
   "source": [
    "#Exploring dataset possibilities\n",
    "sns.pairplot(df2)"
   ]
  },
  {
   "cell_type": "code",
   "execution_count": null,
   "id": "ordered-avenue",
   "metadata": {},
   "outputs": [],
   "source": [
    "#Show counts of Temperature\n",
    "sns.countplot(x='Temperature', data=df2)\n",
    "sns.set(rc={'figure.figsize':(11.7,6.27)})"
   ]
  },
  {
   "cell_type": "code",
   "execution_count": null,
   "id": "metropolitan-heavy",
   "metadata": {},
   "outputs": [],
   "source": [
    "#Show counts of total users\n",
    "sns.countplot(x='Total Users', data=df2)\n",
    "sns.set(rc={'figure.figsize':(11.7,6.27)})"
   ]
  },
  {
   "cell_type": "markdown",
   "id": "roman-traveler",
   "metadata": {},
   "source": [
    "# Task 4 - Olivia"
   ]
  },
  {
   "cell_type": "code",
   "execution_count": null,
   "id": "assumed-respect",
   "metadata": {},
   "outputs": [],
   "source": [
    "sns.countplot(data=df, y= \"Season\", palette= 'pastel', order= df['Season'].value_counts().index[:], hue= 'Weather Situation')\n",
    "\n",
    "#Interestingly, the general ratio of the different weather situations did not change drastically beetween the seasons, and there were many sunny days - it must be beautiful in DC all year round!"
   ]
  },
  {
   "cell_type": "code",
   "execution_count": null,
   "id": "peaceful-scientist",
   "metadata": {},
   "outputs": [],
   "source": [
    "sns.countplot(data=df, y= (\"Total Users\"), palette= 'pastel', order= df['Total Users'].value_counts().index[:], hue= 'Day of Week')\n",
    "\n",
    "plt.show()\n",
    "\n",
    "#From this plot, it is evident that the count of total users is very high on Tuesdays, and Mondays. There are also a fair amount of users on the weekends (Saturday and Sunday)."
   ]
  },
  {
   "cell_type": "code",
   "execution_count": null,
   "id": "editorial-plaintiff",
   "metadata": {},
   "outputs": [],
   "source": [
    "sns.countplot(data=df, y= (\"Casual Users\"), palette= 'pastel', order= df['Casual Users'].value_counts().index[:], hue= 'Holiday?')\n",
    "\n",
    "plt.show()\n"
   ]
  },
  {
   "cell_type": "code",
   "execution_count": null,
   "id": "twenty-support",
   "metadata": {},
   "outputs": [],
   "source": [
    "sns.countplot(data=df, y= (\"Registered User\"), palette= 'pastel', order= df['Registered User'].value_counts().index[:], hue= 'Holiday?')\n",
    "\n",
    "plt.show()"
   ]
  },
  {
   "cell_type": "code",
   "execution_count": null,
   "id": "numerical-passport",
   "metadata": {},
   "outputs": [],
   "source": [
    "sns.displot(data=df, x = \"Total Users\", bins=18, hue = \"Season\", multiple=\"stack\")\n",
    "\n",
    "plt.show()\n",
    "\n",
    "#The histogram below shows that the count of total users is higher for a smaller amount of users. "
   ]
  },
  {
   "cell_type": "code",
   "execution_count": null,
   "id": "handled-feature",
   "metadata": {},
   "outputs": [],
   "source": [
    "sns.displot(data=df, x = \"Casual Users\", bins=18, hue = \"Holiday?\", multiple=\"stack\")\n",
    "\n",
    "plt.show()"
   ]
  },
  {
   "cell_type": "code",
   "execution_count": null,
   "id": "protective-producer",
   "metadata": {},
   "outputs": [],
   "source": [
    "sns.displot(data=df, x = \"Registered User\", bins=18, hue = \"Holiday?\", multiple=\"stack\")\n",
    "\n",
    "plt.show()"
   ]
  },
  {
   "cell_type": "markdown",
   "id": "center-schedule",
   "metadata": {},
   "source": [
    "# Task 5 - Analysis"
   ]
  },
  {
   "cell_type": "markdown",
   "id": "egyptian-bubble",
   "metadata": {},
   "source": [
    "**Research Questions:**\n",
    "    \n",
    "1. What is the relationship between day of the week, and number of casual vs. registered users? Are there more registered users on weekdays, and casual users on weekends?\n",
    "   \n",
    "2. Does weather affect the total number of users?\n",
    "    \n",
    "3. Is there a spike in number of users on holidays?"
   ]
  },
  {
   "cell_type": "markdown",
   "id": "ordinary-general",
   "metadata": {},
   "source": [
    "1. What is the relationship between day of the week, and number of casual vs. registered users? Are there more registered users on weekdays, and casual users on weekends?"
   ]
  },
  {
   "cell_type": "code",
   "execution_count": null,
   "id": "proprietary-chosen",
   "metadata": {},
   "outputs": [],
   "source": [
    "df.plot(x='Day of Week', y='Casual Users')"
   ]
  },
  {
   "cell_type": "code",
   "execution_count": null,
   "id": "exterior-weekly",
   "metadata": {},
   "outputs": [],
   "source": [
    "df.plot(x='Workday?', y='Casual Users')"
   ]
  },
  {
   "cell_type": "code",
   "execution_count": null,
   "id": "numerous-rally",
   "metadata": {},
   "outputs": [],
   "source": [
    "df.plot(x='Day of Week', y='Registered User')"
   ]
  },
  {
   "cell_type": "code",
   "execution_count": null,
   "id": "neutral-parameter",
   "metadata": {},
   "outputs": [],
   "source": [
    "df.plot(x='Workday?', y='Casual Users')"
   ]
  },
  {
   "cell_type": "code",
   "execution_count": null,
   "id": "difficult-pledge",
   "metadata": {},
   "outputs": [],
   "source": [
    "sns.displot(df, x=\"Casual Users\", hue=\"Day of Week\", kind=\"kde\")"
   ]
  },
  {
   "cell_type": "code",
   "execution_count": null,
   "id": "labeled-customer",
   "metadata": {},
   "outputs": [],
   "source": [
    "sns.displot(df, x=\"Casual Users\", hue=\"Workday?\", kind=\"kde\")\n",
    "\n",
    "#There are many more casual users of weekdays than non-weekdays, according to this plot. "
   ]
  },
  {
   "cell_type": "code",
   "execution_count": null,
   "id": "enormous-affiliation",
   "metadata": {},
   "outputs": [],
   "source": [
    "sns.displot(df, x=\"Registered User\", hue=\"Day of Week\", kind=\"kde\")\n",
    "\n",
    "#There are a lot of registered users on Saturday and Sunday."
   ]
  },
  {
   "cell_type": "code",
   "execution_count": null,
   "id": "substantial-sapphire",
   "metadata": {},
   "outputs": [],
   "source": [
    "sns.displot(df, x=\"Registered User\", hue=\"Workday?\", kind=\"kde\")\n",
    "\n",
    "#There seems to be more registered users on non-workdays, however this is likely becuase there is many more workdays than non-workdays."
   ]
  },
  {
   "cell_type": "markdown",
   "id": "alpha-april",
   "metadata": {},
   "source": [
    "- From the plots above, it is evident that there is an increase in both casual and registered users on the Saturdays and Sundays, compared to Monday-Friday.\n",
    "\n",
    "- Interestingly, there seem to be a higher count of both casual and registered users on workdays, compared to non-workdays.\n",
    "\n",
    "- There also seems to be a higher proportion of casual users on workdays to weekends, compared to registered users.\n",
    "\n",
    "- When we look at the days individually, the highest count of users on Saturday and Sunday for both casual and registered users, but when the number of users is considered in terms of workdays, there are many more users on workdays than non-workdays. What is causing these seemingly contradictory results? The fact that there are many more weekdays than weekends! It is biased to compare the total count of registered and casual users on workdays vs. non-workdays for this reason. \n",
    "    \n",
    "- Essentially, we can conlcude that there are a higher number of both casual and registered users PER DAY on weekend days as opposed to work days. "
   ]
  },
  {
   "cell_type": "markdown",
   "id": "valuable-process",
   "metadata": {},
   "source": [
    "2. Does weather affect the total number of users?"
   ]
  },
  {
   "cell_type": "code",
   "execution_count": 45,
   "id": "careful-abuse",
   "metadata": {},
   "outputs": [
    {
     "ename": "NameError",
     "evalue": "name 'df' is not defined",
     "output_type": "error",
     "traceback": [
      "\u001b[0;31m---------------------------------------------------------------------------\u001b[0m",
      "\u001b[0;31mNameError\u001b[0m                                 Traceback (most recent call last)",
      "\u001b[0;32m<ipython-input-45-7f5833a4dec5>\u001b[0m in \u001b[0;36m<module>\u001b[0;34m\u001b[0m\n\u001b[0;32m----> 1\u001b[0;31m \u001b[0msns\u001b[0m\u001b[0;34m.\u001b[0m\u001b[0mcountplot\u001b[0m\u001b[0;34m(\u001b[0m\u001b[0mdata\u001b[0m\u001b[0;34m=\u001b[0m\u001b[0mdf\u001b[0m\u001b[0;34m,\u001b[0m \u001b[0my\u001b[0m\u001b[0;34m=\u001b[0m \u001b[0;34m(\u001b[0m\u001b[0;34m\"Total Users\"\u001b[0m\u001b[0;34m)\u001b[0m\u001b[0;34m,\u001b[0m \u001b[0mpalette\u001b[0m\u001b[0;34m=\u001b[0m \u001b[0;34m'pastel'\u001b[0m\u001b[0;34m,\u001b[0m \u001b[0morder\u001b[0m\u001b[0;34m=\u001b[0m \u001b[0mdf\u001b[0m\u001b[0;34m[\u001b[0m\u001b[0;34m'Total Users'\u001b[0m\u001b[0;34m]\u001b[0m\u001b[0;34m.\u001b[0m\u001b[0mvalue_counts\u001b[0m\u001b[0;34m(\u001b[0m\u001b[0;34m)\u001b[0m\u001b[0;34m.\u001b[0m\u001b[0mindex\u001b[0m\u001b[0;34m[\u001b[0m\u001b[0;34m:\u001b[0m\u001b[0;34m]\u001b[0m\u001b[0;34m,\u001b[0m \u001b[0mhue\u001b[0m\u001b[0;34m=\u001b[0m \u001b[0;34m'Weather Situation'\u001b[0m\u001b[0;34m)\u001b[0m\u001b[0;34m\u001b[0m\u001b[0;34m\u001b[0m\u001b[0m\n\u001b[0m\u001b[1;32m      2\u001b[0m \u001b[0;34m\u001b[0m\u001b[0m\n\u001b[1;32m      3\u001b[0m \u001b[0mplt\u001b[0m\u001b[0;34m.\u001b[0m\u001b[0mshow\u001b[0m\u001b[0;34m(\u001b[0m\u001b[0;34m)\u001b[0m\u001b[0;34m\u001b[0m\u001b[0;34m\u001b[0m\u001b[0m\n",
      "\u001b[0;31mNameError\u001b[0m: name 'df' is not defined"
     ]
    }
   ],
   "source": [
    "sns.countplot(data=df, y= (\"Total Users\"), palette= 'pastel', order= df['Total Users'].value_counts().index[:], hue= 'Weather Situation')\n",
    "\n",
    "plt.show()"
   ]
  },
  {
   "cell_type": "code",
   "execution_count": null,
   "id": "covered-quest",
   "metadata": {},
   "outputs": [],
   "source": [
    "sns.displot(df, x=\"Total Users\", hue=\"Weather Situation\", kind=\"kde\")"
   ]
  },
  {
   "cell_type": "markdown",
   "id": "female-system",
   "metadata": {},
   "source": [
    "Evidently, there are many more users on sunny days, followed by cloudy days, with fewer users on light or heavy precipitation days. "
   ]
  },
  {
   "cell_type": "markdown",
   "id": "ranging-pointer",
   "metadata": {},
   "source": [
    "3. Is there a spike in number of users on holidays?"
   ]
  },
  {
   "cell_type": "code",
   "execution_count": null,
   "id": "previous-likelihood",
   "metadata": {},
   "outputs": [],
   "source": [
    "sns.displot(df, x=\"Total Users\", hue=\"Holiday?\", kind=\"kde\")\n",
    "\n",
    "#This plot shows that there are many more users on non-holidays, but does does not provide any insight into relative amounts, so it is not useful. "
   ]
  },
  {
   "cell_type": "code",
   "execution_count": null,
   "id": "engaged-coast",
   "metadata": {},
   "outputs": [],
   "source": [
    "df2 = df[df['Holiday?']==True]\n",
    "df3 = df[df['Holiday?']==False]"
   ]
  },
  {
   "cell_type": "code",
   "execution_count": null,
   "id": "wanted-guidance",
   "metadata": {},
   "outputs": [],
   "source": [
    "df2['Total Users'].mean()"
   ]
  },
  {
   "cell_type": "code",
   "execution_count": null,
   "id": "rapid-hughes",
   "metadata": {},
   "outputs": [],
   "source": [
    "df3['Total Users'].mean()"
   ]
  },
  {
   "cell_type": "code",
   "execution_count": null,
   "id": "multiple-explosion",
   "metadata": {},
   "outputs": [],
   "source": [
    "#The average value of users in an hour is slightly lower on holidays than on non-holidays. \n",
    "#Therefore, there is NOT a spike in users on holidays."
   ]
  }
 ],
 "metadata": {
  "kernelspec": {
   "display_name": "Python 3",
   "language": "python",
   "name": "python3"
  },
  "language_info": {
   "codemirror_mode": {
    "name": "ipython",
    "version": 3
   },
   "file_extension": ".py",
   "mimetype": "text/x-python",
   "name": "python",
   "nbconvert_exporter": "python",
   "pygments_lexer": "ipython3",
   "version": "3.8.5"
  }
 },
 "nbformat": 4,
 "nbformat_minor": 5
}
