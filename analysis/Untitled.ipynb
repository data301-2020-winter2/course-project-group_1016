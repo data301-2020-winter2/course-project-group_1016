{
 "cells": [
  {
   "cell_type": "markdown",
   "id": "legendary-seventh",
   "metadata": {},
   "source": [
    "# Task 1"
   ]
  },
  {
   "cell_type": "markdown",
   "id": "hindu-glucose",
   "metadata": {},
   "source": [
    "We are demonstrating the use of a **bold** and *italics* text (and the use of a title above). "
   ]
  },
  {
   "cell_type": "markdown",
   "id": "caroline-jersey",
   "metadata": {},
   "source": [
    "# Task 3"
   ]
  },
  {
   "cell_type": "code",
   "execution_count": 1,
   "id": "minus-crest",
   "metadata": {},
   "outputs": [],
   "source": [
    "import pandas as pd\n",
    "import numpy as np\n",
    "import matplotlib.pyplot as plt \n",
    "import seaborn as sns\n",
    "import os\n",
    "os.chdir(\"../..\")"
   ]
  },
  {
   "cell_type": "code",
   "execution_count": 30,
   "id": "suburban-lemon",
   "metadata": {},
   "outputs": [
    {
     "ename": "ModuleNotFoundError",
     "evalue": "No module named 'Scripts'",
     "output_type": "error",
     "traceback": [
      "\u001b[0;31m---------------------------------------------------------------------------\u001b[0m",
      "\u001b[0;31mModuleNotFoundError\u001b[0m                       Traceback (most recent call last)",
      "\u001b[0;32m<ipython-input-30-28ed8711acd4>\u001b[0m in \u001b[0;36m<module>\u001b[0;34m\u001b[0m\n\u001b[0;32m----> 1\u001b[0;31m \u001b[0;32mfrom\u001b[0m \u001b[0mScripts\u001b[0m\u001b[0;34m.\u001b[0m\u001b[0mfunctions\u001b[0m \u001b[0;32mimport\u001b[0m \u001b[0mload_and_process\u001b[0m\u001b[0;34m\u001b[0m\u001b[0;34m\u001b[0m\u001b[0m\n\u001b[0m",
      "\u001b[0;31mModuleNotFoundError\u001b[0m: No module named 'Scripts'"
     ]
    }
   ],
   "source": [
    "from Scripts.functions import load_and_process"
   ]
  },
  {
   "cell_type": "code",
   "execution_count": 3,
   "id": "analyzed-chrome",
   "metadata": {},
   "outputs": [
    {
     "ename": "NameError",
     "evalue": "name 'load_and_process' is not defined",
     "output_type": "error",
     "traceback": [
      "\u001b[0;31m---------------------------------------------------------------------------\u001b[0m",
      "\u001b[0;31mNameError\u001b[0m                                 Traceback (most recent call last)",
      "\u001b[0;32m<ipython-input-3-4150964a79fa>\u001b[0m in \u001b[0;36m<module>\u001b[0;34m\u001b[0m\n\u001b[0;32m----> 1\u001b[0;31m \u001b[0mload_and_process\u001b[0m\u001b[0;34m(\u001b[0m\u001b[0;34m'../Data/Raw/hour.csv'\u001b[0m\u001b[0;34m)\u001b[0m\u001b[0;34m\u001b[0m\u001b[0;34m\u001b[0m\u001b[0m\n\u001b[0m",
      "\u001b[0;31mNameError\u001b[0m: name 'load_and_process' is not defined"
     ]
    }
   ],
   "source": [
    "df = load_and_process('../Data/Raw/hour.csv')"
   ]
  },
  {
   "cell_type": "code",
   "execution_count": 29,
   "id": "knowing-rochester",
   "metadata": {},
   "outputs": [
    {
     "ename": "NameError",
     "evalue": "name 'df' is not defined",
     "output_type": "error",
     "traceback": [
      "\u001b[0;31m---------------------------------------------------------------------------\u001b[0m",
      "\u001b[0;31mNameError\u001b[0m                                 Traceback (most recent call last)",
      "\u001b[0;32m<ipython-input-29-6c5e61a6269b>\u001b[0m in \u001b[0;36m<module>\u001b[0;34m\u001b[0m\n\u001b[1;32m      1\u001b[0m \u001b[0;31m#summary of DataFrame\u001b[0m\u001b[0;34m\u001b[0m\u001b[0;34m\u001b[0m\u001b[0;34m\u001b[0m\u001b[0m\n\u001b[0;32m----> 2\u001b[0;31m \u001b[0mdf\u001b[0m\u001b[0;34m.\u001b[0m\u001b[0minfo\u001b[0m\u001b[0;34m(\u001b[0m\u001b[0;34m)\u001b[0m\u001b[0;34m\u001b[0m\u001b[0;34m\u001b[0m\u001b[0m\n\u001b[0m",
      "\u001b[0;31mNameError\u001b[0m: name 'df' is not defined"
     ]
    }
   ],
   "source": [
    "#summary of DataFrame\n",
    "df.info()"
   ]
  },
  {
   "cell_type": "code",
   "execution_count": 27,
   "id": "narrative-jordan",
   "metadata": {},
   "outputs": [],
   "source": [
    "import pandas as pd\n",
    "def load_and_process(url_or_path_to_csv_file):\n",
    "\n",
    "\n",
    "    #Method Chain 1 (load data, rename columns, drop unneeded columns)\n",
    "    df1 = (\n",
    "    pd.read_csv(url_or_path_to_csv_file)\n",
    "    .rename(columns={\"instant\":\"Instant\", \"dteday\":\"Date\", \"season\":\"Season\", \"yr\":\"Year of Use\", \"mnth\":\"Month\", \"hr\":\"Hour\", \"weekday\":\"Day of Week\", \"workingday\":\"Workday?\", \"holiday\":\"Holiday?\", \"casual\":\"Casual Users\", \"registered\":\"Registered User\", \"cnt\":\"Total Users\", \"weathersit\":\"Weather Situation\", \"temp\":\"Temperature\", \"atemp\":\"Feeling Temperature\", \"hum\":\"Humidity\", \"windspeed\":\"Wind Speed\"})\n",
    "    .drop(columns=['Year of Use'])\n",
    "    )\n",
    " \n",
    "\n",
    "    #Method Chain 2 (Editing columns to be more descriptive)\n",
    "    df2 = (\n",
    "    df1\n",
    "    .assign(Casual_Ratio = df1['Casual Users'] / df1['Total Users'])\n",
    "    )\n",
    "    df2['Month'] = df1['Month'].replace([1,2,3,4,5,6,7,8,9,10,11,12], ['January','February', 'March', 'April', 'May', 'June', 'July', 'August', 'September', 'October', 'November', 'December'])\n",
    "    df2['Holiday?'] = df1['Holiday?'].replace([0,1], [False, True])                                                   \n",
    "    df2['Workday?'] = df1['Workday?'].replace([0,1], [False, True])\n",
    "    df2['Day of Week'] = df1['Day of Week'].replace([1,2,3,4,5,6,0], ['Monday','Tuesday','Wednesday','Thursday','Friday','Saturday','Sunday'])\n",
    "    df2['Weather Situation'] = df1['Weather Situation'].replace([1,2,3,4], ['Sunny','Cloudy','Light Precipitation','Heavy Precipitation'])\n",
    "    df2['Season'] = df1['Season'].replace([1,2,3,4], ['Winter','Spring','Summer','Fall'])\n",
    "    df2['Year of Use'] = df1['Year of Use'].replace([0,1],[2011,2012])\n",
    "    df2[\"Temperature\"] = 41 * df1[\"Temperature\"]\n",
    "    df2[\"Feeling Temperature\"] = 50 * df1[\"Feeling Temperature\"]\n",
    "    df2[\"Wind Speed\"] = 67 * df1[\"Wind Speed\"]\n",
    "    return df2"
   ]
  },
  {
   "cell_type": "code",
   "execution_count": 28,
   "id": "alert-salad",
   "metadata": {},
   "outputs": [
    {
     "ename": "NameError",
     "evalue": "name 'df1' is not defined",
     "output_type": "error",
     "traceback": [
      "\u001b[0;31m---------------------------------------------------------------------------\u001b[0m",
      "\u001b[0;31mNameError\u001b[0m                                 Traceback (most recent call last)",
      "\u001b[0;32m<ipython-input-28-6a861a8b3f1a>\u001b[0m in \u001b[0;36m<module>\u001b[0;34m\u001b[0m\n\u001b[0;32m----> 1\u001b[0;31m \u001b[0mdf1\u001b[0m\u001b[0;34m\u001b[0m\u001b[0;34m\u001b[0m\u001b[0m\n\u001b[0m",
      "\u001b[0;31mNameError\u001b[0m: name 'df1' is not defined"
     ]
    }
   ],
   "source": []
  },
  {
   "cell_type": "markdown",
   "id": "designing-vault",
   "metadata": {},
   "source": [
    "# Task 4 - EDA (Medha)"
   ]
  },
  {
   "cell_type": "code",
   "execution_count": 25,
   "id": "outer-angle",
   "metadata": {},
   "outputs": [
    {
     "ename": "NameError",
     "evalue": "name 'df2' is not defined",
     "output_type": "error",
     "traceback": [
      "\u001b[0;31m---------------------------------------------------------------------------\u001b[0m",
      "\u001b[0;31mNameError\u001b[0m                                 Traceback (most recent call last)",
      "\u001b[0;32m<ipython-input-25-7f9799f7d528>\u001b[0m in \u001b[0;36m<module>\u001b[0;34m\u001b[0m\n\u001b[0;32m----> 1\u001b[0;31m \u001b[0mgraph\u001b[0m\u001b[0;34m=\u001b[0m\u001b[0msns\u001b[0m\u001b[0;34m.\u001b[0m\u001b[0mcatplot\u001b[0m\u001b[0;34m(\u001b[0m\u001b[0mdata\u001b[0m\u001b[0;34m=\u001b[0m\u001b[0mdf2\u001b[0m\u001b[0;34m,\u001b[0m \u001b[0my\u001b[0m\u001b[0;34m=\u001b[0m \u001b[0;34m\"Total Users\"\u001b[0m\u001b[0;34m,\u001b[0m\u001b[0mx\u001b[0m\u001b[0;34m=\u001b[0m \u001b[0;34m\"Weather Situation\"\u001b[0m\u001b[0;34m,\u001b[0m \u001b[0mhue\u001b[0m\u001b[0;34m=\u001b[0m \u001b[0;34m\"Day of Week\"\u001b[0m\u001b[0;34m,\u001b[0m\u001b[0mcol\u001b[0m\u001b[0;34m=\u001b[0m\u001b[0;34m\"Season\"\u001b[0m\u001b[0;34m)\u001b[0m\u001b[0;34m\u001b[0m\u001b[0;34m\u001b[0m\u001b[0m\n\u001b[0m\u001b[1;32m      2\u001b[0m \u001b[0mprint\u001b[0m\u001b[0;34m(\u001b[0m\u001b[0;34m\"The four graphs show the total amount of bicycle users per season. There seems to be a direct correlation between the weather condition and the amount of users. Unsurprisingly, there seems to be little to no bicycle riders when the weather is bad. There also seems to be less bicycle riders during season 1 which is winter \"\u001b[0m\u001b[0;34m)\u001b[0m\u001b[0;34m\u001b[0m\u001b[0;34m\u001b[0m\u001b[0m\n",
      "\u001b[0;31mNameError\u001b[0m: name 'df2' is not defined"
     ]
    }
   ],
   "source": [
    "graph=sns.catplot(data=df2, y= \"Total Users\",x= \"Weather Situation\", hue= \"Day of Week\",col=\"Season\")\n",
    "print(\"The four graphs show the total amount of bicycle users per season. There seems to be a direct correlation between the weather condition and the amount of users. Unsurprisingly, there seems to be little to no bicycle riders when the weather is bad. There also seems to be less bicycle riders during season 1 which is winter \")"
   ]
  },
  {
   "cell_type": "code",
   "execution_count": null,
   "id": "lonely-actress",
   "metadata": {},
   "outputs": [],
   "source": []
  }
 ],
 "metadata": {
  "kernelspec": {
   "display_name": "Python 3",
   "language": "python",
   "name": "python3"
  },
  "language_info": {
   "codemirror_mode": {
    "name": "ipython",
    "version": 3
   },
   "file_extension": ".py",
   "mimetype": "text/x-python",
   "name": "python",
   "nbconvert_exporter": "python",
   "pygments_lexer": "ipython3",
   "version": "3.8.5"
  }
 },
 "nbformat": 4,
 "nbformat_minor": 5
}
